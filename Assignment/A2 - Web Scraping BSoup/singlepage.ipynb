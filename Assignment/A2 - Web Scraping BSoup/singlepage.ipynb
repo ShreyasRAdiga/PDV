{
 "cells": [
  {
   "cell_type": "code",
   "execution_count": 8,
   "metadata": {},
   "outputs": [
    {
     "name": "stderr",
     "output_type": "stream",
     "text": [
      "e:\\anaconda\\envs\\aimlsem1_for_pdv\\lib\\site-packages\\urllib3\\connectionpool.py:1095: InsecureRequestWarning: Unverified HTTPS request is being made to host 'www.indiabix.com'. Adding certificate verification is strongly advised. See: https://urllib3.readthedocs.io/en/latest/advanced-usage.html#tls-warnings\n",
      "  warnings.warn(\n"
     ]
    },
    {
     "name": "stdout",
     "output_type": "stream",
     "text": [
      "[\n",
      "    {\n",
      "        \"text\": \"\\n\\n1.A train running at the speed of 60 km/hr crosses a pole in 9 seconds. What is the length of the train?\\n\\n\\n\\n\\n\\n120 metres\\n\\n\\n\\n\\n180 metres\\n\\n\\n\\n\\n324 metres\\n\\n\\n\\n\\n150 metres\\n\\n\\n\\n\\n\\n\\n\\nAnswer: Option\\n \\n\\nExplanation:\\n\\n\\n\\n\\nSpeed = \\n\\n60 x\\n5\\nm/sec\\n=\\n\\n50\\nm/sec.\\n\\n\\n18\\n3\\n\\n\\n\\nLength of the train = (Speed x Time).\\n\\n\\n\\n Length of the train =\\n\\n50\\nx 9\\nm = 150 m.\\n\\n\\n3\\n\\n\\n\\n\\n\\n\\n\\n\\n\\n\\n\\n \\n\\n\\n\\n\\n\\n\\n\\n\\n\\n\\n\"\n",
      "    },\n",
      "    {\n",
      "        \"text\": \"\\n\\n2.A train 125 m long passes a man, running at 5 km/hr in the same direction in which the train is going, in 10 seconds. The speed of the train is:\\n\\n\\n\\n\\n\\n45 km/hr\\n\\n\\n\\n\\n50 km/hr\\n\\n\\n\\n\\n54 km/hr\\n\\n\\n\\n\\n55 km/hr\\n\\n\\n\\n\\n\\n\\n\\nAnswer: Option\\n \\n\\nExplanation:\\n\\n\\n\\n\\nSpeed of the train relative to man =\\n\\n125\\nm/sec\\n\\n\\n10\\n\\n\\n\\n\\n\\n\\n\\u00a0\\u00a0 =\\n\\n25\\nm/sec.\\n\\n\\n2\\n\\n\\n\\n\\n\\n\\n\\u00a0\\u00a0 =\\n\\n25\\nx\\n18\\nkm/hr\\n\\n\\n2\\n5\\n\\n\\n\\n\\u00a0\\u00a0 = 45 km/hr.\\nLet the speed of the train be x km/hr. Then, relative speed = (x - 5) km/hr.\\n x - 5 = 45 \\u00a0 \\u00a0  \\u00a0 \\u00a0 x = 50 km/hr.\\n\\n\\n\\n\\n\\n\\n\\n\\n \\n\\n\\n\\n\\n\\n\\n\\n\\n\\n\\n\"\n",
      "    },\n",
      "    {\n",
      "        \"text\": \"\\n\\n3.The length of the bridge, which a train 130 metres long and travelling at 45 km/hr can cross in 30 seconds, is:\\n\\n\\n\\n\\n\\n200 m\\n\\n\\n\\n\\n225 m\\n\\n\\n\\n\\n245 m\\n\\n\\n\\n\\n250 m\\n\\n\\n\\n\\n\\n\\n\\nAnswer: Option\\n \\n\\nExplanation:\\n\\n\\n\\n\\nSpeed =\\n\\n45 x\\n5\\nm/sec\\n=\\n\\n25\\nm/sec.\\n\\n\\n18\\n2\\n\\n\\n\\nTime = 30 sec.\\nLet the length of bridge be x metres.\\n\\n\\nThen,\\n130 + x\\n=\\n25\\n\\n\\n30\\n2\\n\\n\\n\\n 2(130 + x) = 750\\n x = 245 m.\\nVideo Explanation: https://youtu.be/M_d8WufJWKc\\n\\n\\n\\n\\n\\n\\n\\n\\n \\n\\n\\n\\n\\n\\n\\n\\n\\n\\n\\n\"\n",
      "    },\n",
      "    {\n",
      "        \"text\": \"\\n\\n4.Two trains running in opposite directions cross a man standing on the platform in 27 seconds and 17 seconds respectively and they cross each other in 23 seconds. The ratio of their speeds is:\\n\\n\\n\\n\\n\\n1 : 3\\n\\n\\n\\n\\n3 : 2\\n\\n\\n\\n\\n3 : 4\\n\\n\\n\\n\\nNone of these\\n\\n\\n\\n\\n\\n\\n\\nAnswer: Option\\n \\n\\nExplanation:\\n\\nLet the speeds of the two trains be x m/sec and y m/sec respectively.\\nThen, length of the first train = 27x metres,\\nand length of the second train = 17y metres.\\n\\n\\n\\n \\n27x + 17y\\n= 23\\n\\n\\nx+ y\\n\\n\\n\\n 27x + 17y = 23x + 23y\\n 4x = 6y\\n\\n\\n\\n \\nx\\n=\\n3\\n.\\n\\n\\ny\\n2\\n\\n\\n\\n\\n\\n\\n\\n\\n\\n\\n\\n \\n\\n\\n\\n\\n\\n\\n\\n\\n\\n\\n\"\n",
      "    },\n",
      "    {\n",
      "        \"text\": \"\\n\\n5.A train passes a station platform in 36 seconds and a man standing on the platform in 20 seconds. If the speed of the train is 54 km/hr, what is the length of the platform?\\r\\n\\n\\n\\n\\n\\n\\n120 m\\n\\n\\n\\n\\n240 m\\n\\n\\n\\n\\n300 m\\n\\n\\n\\n\\nNone of these\\n\\n\\n\\n\\n\\n\\n\\nAnswer: Option\\n \\n\\nExplanation:\\n\\n\\n\\n\\nSpeed =\\n\\n54 x\\n5\\nm/sec = 15 m/sec.\\n\\n\\n18\\n\\n\\n\\nLength of the train = (15 x 20)m = 300 m.\\nLet the length of the platform be x metres.\\n\\n\\n\\nThen,\\nx + 300\\n= 15\\n\\n\\n36\\n\\n\\n\\n x + 300 = 540\\n x = 240 m.\\n\\n\\n\\n\\n\\n\\n\\n\\n \\n\\n\\n\\n\\n\\n\\n\\n\\n\\n\\n\"\n",
      "    }\n",
      "]\n"
     ]
    }
   ],
   "source": [
    "import sys\n",
    "import time\n",
    "import requests\n",
    "import json\n",
    "from bs4 import BeautifulSoup\n",
    "\n",
    "try:\n",
    "    page = requests.get('https://www.indiabix.com/aptitude/problems-on-trains/', verify=False)\n",
    "    time.sleep(2)  # Moved the sleep inside the try block to avoid delay in case of an exception\n",
    "    soup = BeautifulSoup(page.text, 'html.parser')\n",
    "    links = soup.find_all('div', attrs={'class': 'bix-div-container'})\n",
    "\n",
    "    # Create a list to store extracted data as dictionaries\n",
    "    data = []\n",
    "\n",
    "    for link in links:\n",
    "        h1_text = link.get_text()\n",
    "        # Create a dictionary to represent each piece of extracted data\n",
    "        data_item = {'text': h1_text}\n",
    "        data.append(data_item)\n",
    "\n",
    "    # Convert the extracted data list into JSON format\n",
    "    json_data = json.dumps(data, indent=4)  # Indent for pretty formatting\n",
    "\n",
    "    # Print the JSON data\n",
    "    print(json_data)\n",
    "\n",
    "    # Save the JSON data to a file\n",
    "    with open('extracted_data.json', 'w') as json_file:\n",
    "        json_file.write(json_data)\n",
    "\n",
    "except Exception as e:\n",
    "    error_type, error_obj, error_info = sys.exc_info()\n",
    "    print('ERROR FOR LINK:', 'https://www.indiabix.com/aptitude/problems-on-trains/')\n",
    "    print(error_type, 'Line:', error_info.tb_lineno)\n"
   ]
  },
  {
   "cell_type": "code",
   "execution_count": null,
   "metadata": {},
   "outputs": [],
   "source": []
  }
 ],
 "metadata": {
  "kernelspec": {
   "display_name": "aimlsem1_for_pdv",
   "language": "python",
   "name": "python3"
  },
  "language_info": {
   "codemirror_mode": {
    "name": "ipython",
    "version": 3
   },
   "file_extension": ".py",
   "mimetype": "text/x-python",
   "name": "python",
   "nbconvert_exporter": "python",
   "pygments_lexer": "ipython3",
   "version": "3.9.17"
  },
  "orig_nbformat": 4
 },
 "nbformat": 4,
 "nbformat_minor": 2
}

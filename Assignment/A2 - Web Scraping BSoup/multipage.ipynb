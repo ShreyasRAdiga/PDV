{
 "cells": [
  {
   "cell_type": "code",
   "execution_count": 16,
   "metadata": {},
   "outputs": [],
   "source": [
    "import sys\n",
    "import time\n",
    "import requests\n",
    "import json\n",
    "from bs4 import BeautifulSoup\n",
    "\n",
    "for i in range(1,7) :\n",
    "    url =  'https://www.indiabix.com/aptitude/problems-on-trains/'+'03800'+str(i)\n",
    "    try:\n",
    "        page = requests.get(url, verify=False)\n",
    "        time.sleep(2)  # Moved the sleep inside the try block to avoid delay in case of an exception\n",
    "        soup = BeautifulSoup(page.text, 'html.parser')\n",
    "        links = soup.find_all('div', attrs={'class': 'bix-div-container'})\n",
    "\n",
    "    # Create a list to store extracted data as dictionaries\n",
    "        data = []\n",
    "\n",
    "        for link in links:\n",
    "            h1_text = link.get_text()\n",
    "            # Create a dictionary to represent each piece of extracted data\n",
    "            data_item = {'text': h1_text}\n",
    "            data.append(data_item)\n",
    "\n",
    "    # Convert the extracted data list into JSON format\n",
    "          # Indent for pretty formatting\n",
    "        multi=[]\n",
    "        multi.extend(data)\n",
    "        # Print the JSON data\n",
    "       # print(json_data)\n",
    "        with open('extracted_data'+str(i)+'.json', 'w') as json_file:\n",
    "            json.dump(multi, json_file, indent=4)\n",
    "       \n",
    "        \n",
    "        # Save the JSON data to a file\n",
    "        \n",
    "    \n",
    "\n",
    "    except Exception as e:\n",
    "        error_type, error_obj, error_info = sys.exc_info()\n",
    "        print('ERROR FOR LINK:', 'https://www.indiabix.com/aptitude/problems-on-trains/')\n",
    "        print(error_type, 'Line:', error_info.tb_lineno)\n",
    "    # json_data = json.dumps(multi, indent=4)\n",
    "    # with open('extracted_data.json', 'w') as json_file:\n",
    "    #         json_file.write(json_data)\n",
    "     \n",
    "jdata=multi\n",
    "\n"
   ]
  }
 ],
 "metadata": {
  "kernelspec": {
   "display_name": "aimlsem1_for_pdv",
   "language": "python",
   "name": "python3"
  },
  "language_info": {
   "codemirror_mode": {
    "name": "ipython",
    "version": 3
   },
   "file_extension": ".py",
   "mimetype": "text/x-python",
   "name": "python",
   "nbconvert_exporter": "python",
   "pygments_lexer": "ipython3",
   "version": "3.9.17"
  },
  "orig_nbformat": 4
 },
 "nbformat": 4,
 "nbformat_minor": 2
}
